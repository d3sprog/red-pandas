{
 "cells": [
  {
   "cell_type": "markdown",
   "id": "4de309db-b637-4c24-bec6-a58619c17342",
   "metadata": {},
   "source": [
    "# Python mini-kernel\n",
    "\n",
    "## 1. Parsing code\n",
    "\n",
    "We probably want to use Python's own parsing to parse Python code. This is exposed by the \"mini-kernel\" as the `/parse` end-point. It can be used to parse code and get the result as JSON:"
   ]
  },
  {
   "cell_type": "code",
   "execution_count": 86,
   "id": "3f5dd1af-653d-4c78-8a84-08abd8b08994",
   "metadata": {},
   "outputs": [
    {
     "name": "stdout",
     "output_type": "stream",
     "text": [
      "{\n",
      "  \"_type\": \"Module\",\n",
      "  \"body\": [\n",
      "    {\n",
      "      \"_type\": \"Expr\",\n",
      "      \"col_offset\": 0,\n",
      "      \"end_col_offset\": 2,\n",
      "      \"end_lineno\": 1,\n",
      "      \"lineno\": 1,\n",
      "      \"value\": {\n",
      "        \"_type\": \"IntConstant\",\n",
      "        \"col_offset\": 0,\n",
      "        \"end_col_offset\": 2,\n",
      "        \"end_lineno\": 1,\n",
      "        \"kind\": null,\n",
      "        \"lineno\": 1,\n",
      "        \"n\": 42,\n",
      "        \"s\": 42,\n",
      "        \"value\": 42\n",
      "      }\n",
      "    }\n",
      "  ],\n",
      "  \"type_ignores\": []\n",
      "}\n"
     ]
    }
   ],
   "source": [
    "!curl -H \"Content-Type:application/python\" -d \"42\" -s http://localhost:7101/parse"
   ]
  },
  {
   "cell_type": "code",
   "execution_count": 87,
   "id": "c250c9b3-a157-4686-978a-bb880dbf0ae8",
   "metadata": {},
   "outputs": [
    {
     "name": "stdout",
     "output_type": "stream",
     "text": [
      "{\n",
      "  \"_type\": \"Module\",\n",
      "  \"body\": [\n",
      "    {\n",
      "      \"_type\": \"Assign\",\n",
      "      \"col_offset\": 0,\n",
      "      \"end_col_offset\": 30,\n",
      "      \"end_lineno\": 1,\n",
      "      \"lineno\": 1,\n",
      "      \"targets\": [\n",
      "        {\n",
      "          \"_type\": \"Name\",\n",
      "          \"col_offset\": 0,\n",
      "          \"ctx\": {\n",
      "            \"_type\": \"Store\"\n",
      "          },\n",
      "          \"end_col_offset\": 5,\n",
      "          \"end_lineno\": 1,\n",
      "          \"id\": \"rooms\",\n",
      "          \"lineno\": 1\n",
      "        }\n",
      "      ],\n",
      "      \"type_comment\": null,\n",
      "      \"value\": {\n",
      "        \"_type\": \"Call\",\n",
      "        \"args\": [\n",
      "          {\n",
      "            \"_type\": \"StringConstant\",\n",
      "            \"col_offset\": 18,\n",
      "            \"end_col_offset\": 29,\n",
      "            \"end_lineno\": 1,\n",
      "            \"kind\": null,\n",
      "            \"lineno\": 1,\n",
      "            \"n\": \"rooms.csv\",\n",
      "            \"s\": \"rooms.csv\",\n",
      "            \"value\": \"rooms.csv\"\n",
      "          }\n",
      "        ],\n",
      "        \"col_offset\": 6,\n",
      "        \"end_col_offset\": 30,\n",
      "        \"end_lineno\": 1,\n",
      "        \"func\": {\n",
      "          \"_type\": \"Attribute\",\n",
      "          \"attr\": \"read_csv\",\n",
      "          \"col_offset\": 6,\n",
      "          \"ctx\": {\n",
      "            \"_type\": \"Load\"\n",
      "          },\n",
      "          \"end_col_offset\": 17,\n",
      "          \"end_lineno\": 1,\n",
      "          \"lineno\": 1,\n",
      "          \"value\": {\n",
      "            \"_type\": \"Name\",\n",
      "            \"col_offset\": 6,\n",
      "            \"ctx\": {\n",
      "              \"_type\": \"Load\"\n",
      "            },\n",
      "            \"end_col_offset\": 8,\n",
      "            \"end_lineno\": 1,\n",
      "            \"id\": \"pd\",\n",
      "            \"lineno\": 1\n",
      "          }\n",
      "        },\n",
      "        \"keywords\": [],\n",
      "        \"lineno\": 1\n",
      "      }\n",
      "    }\n",
      "  ],\n",
      "  \"type_ignores\": []\n",
      "}\n"
     ]
    }
   ],
   "source": [
    "!curl -H \"Content-Type:application/python\" -d \"rooms=pd.read_csv(\\\"rooms.csv\\\")\" -s http://localhost:7101/parse"
   ]
  },
  {
   "cell_type": "markdown",
   "id": "0b91a7a9-49b7-40cd-8540-da38318d1638",
   "metadata": {},
   "source": [
    "## 2. Executing code\n",
    "\n",
    "In the notebook, the user will go over the cells and run them one by one. After they run some cells, we may be able to get more precise information about the type of the dataframe. The mini-kernel can be used to execute code. The `/exec` end-point runs some imperative code that does not return; `/eval` can be used to evaluate things that return something. Note that the mini-kernel keeps local variables between requests:"
   ]
  },
  {
   "cell_type": "code",
   "execution_count": 88,
   "id": "452e96ba-c48b-4b94-bc96-c9ec2ca894b9",
   "metadata": {},
   "outputs": [
    {
     "name": "stdout",
     "output_type": "stream",
     "text": [
      "42\n"
     ]
    }
   ],
   "source": [
    "!curl -H \"Content-Type:application/x-python-code\" -d \"40+2\" -s http://localhost:7101/eval"
   ]
  },
  {
   "cell_type": "code",
   "execution_count": 89,
   "id": "5b910430-aa04-4d77-8cab-57ae9c3967a5",
   "metadata": {},
   "outputs": [],
   "source": [
    "!curl -H \"Content-Type:application/x-python-code\" -d \"rooms=pd.read_csv(\\\"rooms.csv\\\")\" -s http://localhost:7101/exec"
   ]
  },
  {
   "cell_type": "code",
   "execution_count": 90,
   "id": "171abbc7-5597-4320-a03f-917fd8bac014",
   "metadata": {},
   "outputs": [
    {
     "name": "stdout",
     "output_type": "stream",
     "text": [
      "{\"room\":{\"0\":\"S3\",\"1\":\"S5\",\"2\":\"S9\",\"3\":\"S4\",\"4\":\"S8\"},\" floor\":{\"0\":3,\"1\":2,\"2\":1,\"3\":3,\"4\":1},\" capacity\":{\"0\":116,\"1\":118,\"2\":118,\"3\":70,\"4\":30}}\n"
     ]
    }
   ],
   "source": [
    "!curl -H \"Content-Type:application/x-python-code\" -d \"rooms.head()\" -s http://localhost:7101/eval"
   ]
  },
  {
   "cell_type": "markdown",
   "id": "a954102c-23bd-4aaf-ac52-0d64e7671855",
   "metadata": {},
   "source": [
    "## 3. Getting runtime types\n",
    "\n",
    "After we run some code, we can get a list of local variables and get their runtime types. For dataframes, there is an extra function to look at the column names and types:"
   ]
  },
  {
   "cell_type": "code",
   "execution_count": 91,
   "id": "c6c36009-ffa0-46c5-a7ec-79d7f7c7e7b4",
   "metadata": {},
   "outputs": [],
   "source": [
    "!curl -H \"Content-Type:application/x-python-code\" -d \"a=42\" -s http://localhost:7101/exec\n",
    "!curl -H \"Content-Type:application/x-python-code\" -d \"hi=\\\"hello\\\"\" -s http://localhost:7101/exec"
   ]
  },
  {
   "cell_type": "code",
   "execution_count": 92,
   "id": "ee4e4b1c-f1d4-4294-80b0-ea515bfdd956",
   "metadata": {},
   "outputs": [
    {
     "name": "stdout",
     "output_type": "stream",
     "text": [
      "{\n",
      "  \"a\": \"int\",\n",
      "  \"hi\": \"str\",\n",
      "  \"rooms\": \"DataFrame\"\n",
      "}\n"
     ]
    }
   ],
   "source": [
    "!curl -s http://localhost:7101/locals"
   ]
  },
  {
   "cell_type": "code",
   "execution_count": 93,
   "id": "129c0867-4095-4dfe-8651-60ab3be07f94",
   "metadata": {},
   "outputs": [
    {
     "name": "stdout",
     "output_type": "stream",
     "text": [
      "{\"room\":\"str\",\" floor\":\"int64\",\" capacity\":\"int64\"}\n"
     ]
    }
   ],
   "source": [
    "!curl -s http://localhost:7101/getcols/rooms"
   ]
  }
 ],
 "metadata": {
  "kernelspec": {
   "display_name": "Python 3 (ipykernel)",
   "language": "python",
   "name": "python3"
  },
  "language_info": {
   "codemirror_mode": {
    "name": "ipython",
    "version": 3
   },
   "file_extension": ".py",
   "mimetype": "text/x-python",
   "name": "python",
   "nbconvert_exporter": "python",
   "pygments_lexer": "ipython3",
   "version": "3.12.4"
  }
 },
 "nbformat": 4,
 "nbformat_minor": 5
}
